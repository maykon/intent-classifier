{
  "nbformat": 4,
  "nbformat_minor": 0,
  "metadata": {
    "colab": {
      "name": "Intent_classification_final.ipynb",
      "provenance": [],
      "collapsed_sections": [],
      "toc_visible": true,
      "include_colab_link": true
    },
    "kernelspec": {
      "name": "python3",
      "display_name": "Python 3"
    },
    "accelerator": "TPU"
  },
  "cells": [
    {
      "cell_type": "markdown",
      "metadata": {
        "id": "view-in-github",
        "colab_type": "text"
      },
      "source": [
        "<a href=\"https://colab.research.google.com/github/maykon/intent-classifier/blob/master/Intent_classification_final.ipynb\" target=\"_parent\"><img src=\"https://colab.research.google.com/assets/colab-badge.svg\" alt=\"Open In Colab\"/></a>"
      ]
    },
    {
      "cell_type": "code",
      "metadata": {
        "id": "a_WypuUXi92e",
        "colab_type": "code",
        "colab": {}
      },
      "source": [
        "import numpy as np\n",
        "import pandas as pd\n",
        "from nltk.corpus import stopwords\n",
        "from nltk.tokenize import word_tokenize\n",
        "from nltk.stem import RSLPStemmer\n",
        "import nltk\n",
        "import re\n",
        "from sklearn.preprocessing import OneHotEncoder\n",
        "from sklearn.preprocessing import LabelEncoder\n",
        "import matplotlib.pyplot as plt\n",
        "from keras.preprocessing.text import Tokenizer\n",
        "from keras.preprocessing.sequence import pad_sequences\n",
        "from keras.utils import to_categorical\n",
        "from keras.models import Sequential, load_model\n",
        "from keras.layers import Activation, Dense, GRU, LSTM, Bidirectional, Embedding, Dropout, BatchNormalization\n",
        "from keras.callbacks import ModelCheckpoint\n"
      ],
      "execution_count": 0,
      "outputs": []
    },
    {
      "cell_type": "code",
      "metadata": {
        "id": "LE6wywJrN2ih",
        "colab_type": "code",
        "colab": {}
      },
      "source": [
        "def load_dataset(filename):\n",
        "  df = pd.read_csv(filename, encoding = 'utf-8', names = [\"Sentence\", \"Intent\"])\n",
        "  print(df.head())\n",
        "  intent = df[\"Intent\"]\n",
        "  unique_intent = list(set(intent))\n",
        "  sentences = list(df[\"Sentence\"])\n",
        "  \n",
        "  return (intent, unique_intent, sentences)\n",
        "  \n"
      ],
      "execution_count": 0,
      "outputs": []
    },
    {
      "cell_type": "code",
      "metadata": {
        "id": "tF0FQA7gjOCX",
        "colab_type": "code",
        "outputId": "f42919b3-bc05-4347-8280-7a54fb09117d",
        "colab": {
          "base_uri": "https://localhost:8080/",
          "height": 119
        }
      },
      "source": [
        "intent, unique_intent, sentences = load_dataset(\"Dataset_pt.csv\")"
      ],
      "execution_count": 227,
      "outputs": [
        {
          "output_type": "stream",
          "text": [
            "                              Sentence       Intent\n",
            "0                        Frete grátis?  FreteGratis\n",
            "1                   Quanto tá o frete?   DadosFrete\n",
            "2  qual o valor do frete para maringá?   DadosFrete\n",
            "3       quanto ta o frete pra maringá?   DadosFrete\n",
            "4        quanto ta o frte para maringá   DadosFrete\n"
          ],
          "name": "stdout"
        }
      ]
    },
    {
      "cell_type": "code",
      "metadata": {
        "id": "O8LLUZlokg0S",
        "colab_type": "code",
        "outputId": "e03ec8e1-0879-40c9-858c-e4dda2ce3e4d",
        "colab": {
          "base_uri": "https://localhost:8080/",
          "height": 34
        }
      },
      "source": [
        "print(sentences[:5])"
      ],
      "execution_count": 228,
      "outputs": [
        {
          "output_type": "stream",
          "text": [
            "['Frete grátis?', 'Quanto tá o frete?', 'qual o valor do frete para maringá?', 'quanto ta o frete pra maringá?', 'quanto ta o frte para maringá']\n"
          ],
          "name": "stdout"
        }
      ]
    },
    {
      "cell_type": "code",
      "metadata": {
        "id": "MhrziINPGHbW",
        "colab_type": "code",
        "outputId": "77b9195f-6e04-4d80-c969-70855f4fac8f",
        "colab": {
          "base_uri": "https://localhost:8080/",
          "height": 136
        }
      },
      "source": [
        "nltk.download(\"stopwords\")\n",
        "nltk.download(\"punkt\")\n",
        "nltk.download('rslp')"
      ],
      "execution_count": 229,
      "outputs": [
        {
          "output_type": "stream",
          "text": [
            "[nltk_data] Downloading package stopwords to /root/nltk_data...\n",
            "[nltk_data]   Package stopwords is already up-to-date!\n",
            "[nltk_data] Downloading package punkt to /root/nltk_data...\n",
            "[nltk_data]   Package punkt is already up-to-date!\n",
            "[nltk_data] Downloading package rslp to /root/nltk_data...\n",
            "[nltk_data]   Package rslp is already up-to-date!\n"
          ],
          "name": "stdout"
        },
        {
          "output_type": "execute_result",
          "data": {
            "text/plain": [
              "True"
            ]
          },
          "metadata": {
            "tags": []
          },
          "execution_count": 229
        }
      ]
    },
    {
      "cell_type": "code",
      "metadata": {
        "id": "OmNLu2YSXePb",
        "colab_type": "code",
        "colab": {}
      },
      "source": [
        "#define stemmer\n",
        "stemmer = RSLPStemmer()"
      ],
      "execution_count": 0,
      "outputs": []
    },
    {
      "cell_type": "code",
      "metadata": {
        "id": "j-7q3iG5PKYI",
        "colab_type": "code",
        "colab": {}
      },
      "source": [
        "def cleaning(sentences):\n",
        "  words = []\n",
        "  for s in sentences:\n",
        "    clean = re.sub(r'[^ a-z A-Z 0-9]', \" \", s)\n",
        "    w = word_tokenize(clean, language='portuguese')\n",
        "    #stemming\n",
        "    words.append([stemmer.stem(i.lower()) for i in w])\n",
        "    \n",
        "  return words  "
      ],
      "execution_count": 0,
      "outputs": []
    },
    {
      "cell_type": "code",
      "metadata": {
        "id": "p1j2GJgDG6qj",
        "colab_type": "code",
        "outputId": "a43627b8-5db9-42ef-e6e2-c2bc31c1d7b5",
        "colab": {
          "base_uri": "https://localhost:8080/",
          "height": 51
        }
      },
      "source": [
        "cleaned_words = cleaning(sentences)\n",
        "print(len(cleaned_words))\n",
        "print(cleaned_words[:2])  \n",
        "  \n"
      ],
      "execution_count": 232,
      "outputs": [
        {
          "output_type": "stream",
          "text": [
            "32\n",
            "[['fret', 'gr', 'ti'], ['quant', 't', 'o', 'fret']]\n"
          ],
          "name": "stdout"
        }
      ]
    },
    {
      "cell_type": "code",
      "metadata": {
        "id": "SJCQ_YhBJW7t",
        "colab_type": "code",
        "colab": {}
      },
      "source": [
        "def create_tokenizer(words, filters = '!\"#$%&()*+,-./:;<=>?@[\\]^_`{|}~'):\n",
        "  token = Tokenizer(filters = filters)\n",
        "  token.fit_on_texts(words)\n",
        "  return token"
      ],
      "execution_count": 0,
      "outputs": []
    },
    {
      "cell_type": "code",
      "metadata": {
        "id": "QJhdIJC5Q3Q6",
        "colab_type": "code",
        "colab": {}
      },
      "source": [
        "def max_length(words):\n",
        "  return(len(max(words, key = len)))\n",
        "  "
      ],
      "execution_count": 0,
      "outputs": []
    },
    {
      "cell_type": "code",
      "metadata": {
        "id": "JWjxPGsZZJNX",
        "colab_type": "code",
        "outputId": "d79f886b-5629-4409-fb42-3259c1c012b6",
        "colab": {
          "base_uri": "https://localhost:8080/",
          "height": 34
        }
      },
      "source": [
        "word_tokenizer = create_tokenizer(cleaned_words)\n",
        "vocab_size = len(word_tokenizer.word_index) + 1\n",
        "max_length = max_length(cleaned_words)\n",
        "\n",
        "print(\"Vocab Size = %d and Maximum length = %d\" % (vocab_size, max_length))"
      ],
      "execution_count": 235,
      "outputs": [
        {
          "output_type": "stream",
          "text": [
            "Vocab Size = 69 and Maximum length = 14\n"
          ],
          "name": "stdout"
        }
      ]
    },
    {
      "cell_type": "code",
      "metadata": {
        "id": "D0TXu2xsR8jq",
        "colab_type": "code",
        "colab": {}
      },
      "source": [
        "def encoding_doc(token, words):\n",
        "  return(token.texts_to_sequences(words))"
      ],
      "execution_count": 0,
      "outputs": []
    },
    {
      "cell_type": "code",
      "metadata": {
        "id": "dE92Hk1Va--H",
        "colab_type": "code",
        "colab": {}
      },
      "source": [
        "encoded_doc = encoding_doc(word_tokenizer, cleaned_words)"
      ],
      "execution_count": 0,
      "outputs": []
    },
    {
      "cell_type": "code",
      "metadata": {
        "id": "fyOzLEboc4LZ",
        "colab_type": "code",
        "colab": {}
      },
      "source": [
        "def padding_doc(encoded_doc, max_length):\n",
        "  return(pad_sequences(encoded_doc, maxlen = max_length, padding = \"post\"))"
      ],
      "execution_count": 0,
      "outputs": []
    },
    {
      "cell_type": "code",
      "metadata": {
        "id": "WdejoJrlc-tc",
        "colab_type": "code",
        "colab": {}
      },
      "source": [
        "padded_doc = padding_doc(encoded_doc, max_length)"
      ],
      "execution_count": 0,
      "outputs": []
    },
    {
      "cell_type": "code",
      "metadata": {
        "id": "gDgTCS2KdI2p",
        "colab_type": "code",
        "outputId": "ff1ab95c-219a-4e69-e571-65ef13f367dc",
        "colab": {
          "base_uri": "https://localhost:8080/",
          "height": 119
        }
      },
      "source": [
        "padded_doc[:5]"
      ],
      "execution_count": 240,
      "outputs": [
        {
          "output_type": "execute_result",
          "data": {
            "text/plain": [
              "array([[ 2,  6,  7,  0,  0,  0,  0,  0,  0,  0,  0,  0,  0,  0],\n",
              "       [ 4, 20,  1,  2,  0,  0,  0,  0,  0,  0,  0,  0,  0,  0],\n",
              "       [21,  1, 31, 32,  2,  5,  8,  0,  0,  0,  0,  0,  0,  0],\n",
              "       [ 4, 10,  1,  2, 11,  8,  0,  0,  0,  0,  0,  0,  0,  0],\n",
              "       [ 4, 10,  1, 33,  5,  8,  0,  0,  0,  0,  0,  0,  0,  0]],\n",
              "      dtype=int32)"
            ]
          },
          "metadata": {
            "tags": []
          },
          "execution_count": 240
        }
      ]
    },
    {
      "cell_type": "code",
      "metadata": {
        "id": "3eaSIDi0dNf1",
        "colab_type": "code",
        "outputId": "12fd00c0-e4c9-49ce-8adb-24c00b8ecea7",
        "colab": {
          "base_uri": "https://localhost:8080/",
          "height": 34
        }
      },
      "source": [
        "print(\"Shape of padded docs = \",padded_doc.shape)"
      ],
      "execution_count": 241,
      "outputs": [
        {
          "output_type": "stream",
          "text": [
            "Shape of padded docs =  (32, 14)\n"
          ],
          "name": "stdout"
        }
      ]
    },
    {
      "cell_type": "code",
      "metadata": {
        "id": "X0rXzenSpgFR",
        "colab_type": "code",
        "colab": {}
      },
      "source": [
        "#tokenizer with filter changed\n",
        "output_tokenizer = create_tokenizer(unique_intent, filters = '!\"#$%&()*+,-/:;<=>?@[\\]^`{|}~')\n"
      ],
      "execution_count": 0,
      "outputs": []
    },
    {
      "cell_type": "code",
      "metadata": {
        "id": "yNHQtkszskxr",
        "colab_type": "code",
        "outputId": "76febafa-7e5a-4699-c912-cfeebca38f3e",
        "colab": {
          "base_uri": "https://localhost:8080/",
          "height": 34
        }
      },
      "source": [
        "output_tokenizer.word_index"
      ],
      "execution_count": 243,
      "outputs": [
        {
          "output_type": "execute_result",
          "data": {
            "text/plain": [
              "{'dadosfrete': 3, 'dadosnotafiscal': 1, 'fretegratis': 2}"
            ]
          },
          "metadata": {
            "tags": []
          },
          "execution_count": 243
        }
      ]
    },
    {
      "cell_type": "code",
      "metadata": {
        "id": "7OOx9qdBto1-",
        "colab_type": "code",
        "colab": {
          "base_uri": "https://localhost:8080/",
          "height": 578
        },
        "outputId": "ddb66b36-16fc-4472-ac18-95c0e9fdd292"
      },
      "source": [
        "print(intent)\n",
        "encoded_output = encoding_doc(output_tokenizer, intent)"
      ],
      "execution_count": 244,
      "outputs": [
        {
          "output_type": "stream",
          "text": [
            "0         FreteGratis\n",
            "1          DadosFrete\n",
            "2          DadosFrete\n",
            "3          DadosFrete\n",
            "4          DadosFrete\n",
            "5          DadosFrete\n",
            "6          DadosFrete\n",
            "7          DadosFrete\n",
            "8          DadosFrete\n",
            "9          DadosFrete\n",
            "10        FreteGratis\n",
            "11         DadosFrete\n",
            "12        FreteGratis\n",
            "13        FreteGratis\n",
            "14        FreteGratis\n",
            "15         DadosFrete\n",
            "16        FreteGratis\n",
            "17        FreteGratis\n",
            "18        FreteGratis\n",
            "19         DadosFrete\n",
            "20    DadosNotaFiscal\n",
            "21    DadosNotaFiscal\n",
            "22    DadosNotaFiscal\n",
            "23    DadosNotaFiscal\n",
            "24    DadosNotaFiscal\n",
            "25    DadosNotaFiscal\n",
            "26    DadosNotaFiscal\n",
            "27    DadosNotaFiscal\n",
            "28    DadosNotaFiscal\n",
            "29    DadosNotaFiscal\n",
            "30    DadosNotaFiscal\n",
            "31    DadosNotaFiscal\n",
            "Name: Intent, dtype: object\n"
          ],
          "name": "stdout"
        }
      ]
    },
    {
      "cell_type": "code",
      "metadata": {
        "id": "0_5Lv5PiyG-z",
        "colab_type": "code",
        "colab": {}
      },
      "source": [
        "encoded_output = np.array(encoded_output).reshape(len(encoded_output), 1)"
      ],
      "execution_count": 0,
      "outputs": []
    },
    {
      "cell_type": "code",
      "metadata": {
        "id": "dpM86WrVQlx5",
        "colab_type": "code",
        "outputId": "20317793-c08f-4124-d063-667d82bff724",
        "colab": {
          "base_uri": "https://localhost:8080/",
          "height": 34
        }
      },
      "source": [
        "encoded_output.shape"
      ],
      "execution_count": 261,
      "outputs": [
        {
          "output_type": "execute_result",
          "data": {
            "text/plain": [
              "(32, 1)"
            ]
          },
          "metadata": {
            "tags": []
          },
          "execution_count": 261
        }
      ]
    },
    {
      "cell_type": "code",
      "metadata": {
        "id": "rD3QN-RPzfet",
        "colab_type": "code",
        "colab": {}
      },
      "source": [
        "def one_hot(encode):\n",
        "  o = OneHotEncoder(sparse = False)\n",
        "  return(o.fit_transform(encode))"
      ],
      "execution_count": 0,
      "outputs": []
    },
    {
      "cell_type": "code",
      "metadata": {
        "id": "Z6wP_Xed7RNR",
        "colab_type": "code",
        "colab": {}
      },
      "source": [
        "output_one_hot = one_hot(encoded_output)"
      ],
      "execution_count": 0,
      "outputs": []
    },
    {
      "cell_type": "code",
      "metadata": {
        "id": "A6HVslLTHgOM",
        "colab_type": "code",
        "outputId": "0446fa77-0b2b-4d83-af94-d383ac2ff2a0",
        "colab": {
          "base_uri": "https://localhost:8080/",
          "height": 34
        }
      },
      "source": [
        "output_one_hot.shape"
      ],
      "execution_count": 279,
      "outputs": [
        {
          "output_type": "execute_result",
          "data": {
            "text/plain": [
              "(32, 3)"
            ]
          },
          "metadata": {
            "tags": []
          },
          "execution_count": 279
        }
      ]
    },
    {
      "cell_type": "code",
      "metadata": {
        "id": "EqABUESD7xi9",
        "colab_type": "code",
        "colab": {}
      },
      "source": [
        "from sklearn.model_selection import train_test_split"
      ],
      "execution_count": 0,
      "outputs": []
    },
    {
      "cell_type": "code",
      "metadata": {
        "id": "h8P4HTz6A4E-",
        "colab_type": "code",
        "colab": {}
      },
      "source": [
        "train_X, val_X, train_Y, val_Y = train_test_split(padded_doc, output_one_hot, shuffle = True, test_size = 0.2)\n"
      ],
      "execution_count": 0,
      "outputs": []
    },
    {
      "cell_type": "code",
      "metadata": {
        "id": "7E0uhC2OCtTx",
        "colab_type": "code",
        "outputId": "b5c9802f-16e3-4851-83ea-7fd60cd18ed9",
        "colab": {
          "base_uri": "https://localhost:8080/",
          "height": 51
        }
      },
      "source": [
        "print(\"Shape of train_X = %s and train_Y = %s\" % (train_X.shape, train_Y.shape))\n",
        "print(\"Shape of val_X = %s and val_Y = %s\" % (val_X.shape, val_Y.shape))"
      ],
      "execution_count": 282,
      "outputs": [
        {
          "output_type": "stream",
          "text": [
            "Shape of train_X = (25, 14) and train_Y = (25, 3)\n",
            "Shape of val_X = (7, 14) and val_Y = (7, 3)\n"
          ],
          "name": "stdout"
        }
      ]
    },
    {
      "cell_type": "code",
      "metadata": {
        "id": "e5BU_x74DNEb",
        "colab_type": "code",
        "colab": {}
      },
      "source": [
        "num_labels = len(unique_intent)\n",
        "\n",
        "def create_model(vocab_size, max_length):\n",
        "  model = Sequential()\n",
        "  model.add(Embedding(vocab_size, 256,\n",
        "            input_length = max_length,  trainable = False))\n",
        "  model.add(Bidirectional(LSTM(256)))\n",
        "  model.add(Dense(256, activation = \"relu\"))\n",
        "  model.add(Dropout(0.5))\n",
        "  model.add(Dense(256, activation = \"relu\"))\n",
        "  model.add(Dropout(0.5))\n",
        "  model.add(BatchNormalization())\n",
        "  model.add(Dense(num_labels, activation = \"softmax\"))\n",
        "\n",
        "  #model.add(Embedding(vocab_size, 128, input_length = max_length, trainable = False))\n",
        "  #model.add(Bidirectional(LSTM(128)))\n",
        "  #model.add(Dense(512, activation = \"relu\"))\n",
        "  #model.add(Dropout(0.5))\n",
        "  #model.add(Dense(num_labels, activation = \"softmax\"))\n",
        "  #model.add(Dense(512))\n",
        "  #model.add(Activation('relu'))\n",
        "  #model.add(Dropout(0.5))\n",
        "  #model.add(Dense(512))\n",
        "  #model.add(Activation('relu'))\n",
        "  #model.add(Dropout(0.5))\n",
        "  #model.add(Dense(num_labels))\n",
        "  #model.add(Activation('softmax'))\n",
        "  \n",
        "  return model"
      ],
      "execution_count": 0,
      "outputs": []
    },
    {
      "cell_type": "code",
      "metadata": {
        "id": "f-NvE0P7MFCe",
        "colab_type": "code",
        "outputId": "fe89bda6-2e81-477a-f752-59441f302e4c",
        "colab": {
          "base_uri": "https://localhost:8080/",
          "height": 425
        }
      },
      "source": [
        "model = create_model(vocab_size, max_length)\n",
        "\n",
        "model.compile(loss = \"categorical_crossentropy\", optimizer = \"adam\", metrics = [\"accuracy\"])\n",
        "model.summary()"
      ],
      "execution_count": 285,
      "outputs": [
        {
          "output_type": "stream",
          "text": [
            "Model: \"sequential_16\"\n",
            "_________________________________________________________________\n",
            "Layer (type)                 Output Shape              Param #   \n",
            "=================================================================\n",
            "embedding_14 (Embedding)     (None, 14, 256)           17664     \n",
            "_________________________________________________________________\n",
            "bidirectional_11 (Bidirectio (None, 512)               1050624   \n",
            "_________________________________________________________________\n",
            "dense_40 (Dense)             (None, 256)               131328    \n",
            "_________________________________________________________________\n",
            "dropout_26 (Dropout)         (None, 256)               0         \n",
            "_________________________________________________________________\n",
            "dense_41 (Dense)             (None, 256)               65792     \n",
            "_________________________________________________________________\n",
            "dropout_27 (Dropout)         (None, 256)               0         \n",
            "_________________________________________________________________\n",
            "batch_normalization_10 (Batc (None, 256)               1024      \n",
            "_________________________________________________________________\n",
            "dense_42 (Dense)             (None, 3)                 771       \n",
            "=================================================================\n",
            "Total params: 1,267,203\n",
            "Trainable params: 1,249,027\n",
            "Non-trainable params: 18,176\n",
            "_________________________________________________________________\n"
          ],
          "name": "stdout"
        }
      ]
    },
    {
      "cell_type": "code",
      "metadata": {
        "id": "_r-dxm2sMQ-d",
        "colab_type": "code",
        "outputId": "739dcbc7-2d46-4cb0-963b-14aee812a939",
        "colab": {
          "base_uri": "https://localhost:8080/",
          "height": 1000
        }
      },
      "source": [
        "filename = 'model.h5'\n",
        "checkpoint = ModelCheckpoint(filename, monitor='val_loss', verbose=1, save_best_only=True, mode='min')\n",
        "\n",
        "hist = model.fit(train_X, train_Y, epochs = 200, batch_size = 10, validation_data = (val_X, val_Y), callbacks = [checkpoint])"
      ],
      "execution_count": 286,
      "outputs": [
        {
          "output_type": "stream",
          "text": [
            "Train on 25 samples, validate on 7 samples\n",
            "Epoch 1/200\n",
            "25/25 [==============================] - 7s 268ms/step - loss: 1.1277 - acc: 0.4000 - val_loss: 1.0403 - val_acc: 0.5714\n",
            "\n",
            "Epoch 00001: val_loss improved from inf to 1.04033, saving model to model.h5\n",
            "Epoch 2/200\n",
            "25/25 [==============================] - 0s 14ms/step - loss: 1.4205 - acc: 0.2800 - val_loss: 0.8310 - val_acc: 0.5714\n",
            "\n",
            "Epoch 00002: val_loss improved from 1.04033 to 0.83096, saving model to model.h5\n",
            "Epoch 3/200\n",
            "25/25 [==============================] - 0s 14ms/step - loss: 0.9815 - acc: 0.4800 - val_loss: 0.9311 - val_acc: 0.5714\n",
            "\n",
            "Epoch 00003: val_loss did not improve from 0.83096\n",
            "Epoch 4/200\n",
            "25/25 [==============================] - 0s 13ms/step - loss: 1.1783 - acc: 0.3200 - val_loss: 0.9020 - val_acc: 0.5714\n",
            "\n",
            "Epoch 00004: val_loss did not improve from 0.83096\n",
            "Epoch 5/200\n",
            "25/25 [==============================] - 0s 14ms/step - loss: 1.0950 - acc: 0.4400 - val_loss: 0.8907 - val_acc: 0.5714\n",
            "\n",
            "Epoch 00005: val_loss did not improve from 0.83096\n",
            "Epoch 6/200\n",
            "25/25 [==============================] - 0s 14ms/step - loss: 1.1487 - acc: 0.4000 - val_loss: 0.7999 - val_acc: 0.7143\n",
            "\n",
            "Epoch 00006: val_loss improved from 0.83096 to 0.79986, saving model to model.h5\n",
            "Epoch 7/200\n",
            "25/25 [==============================] - 0s 14ms/step - loss: 1.2548 - acc: 0.3200 - val_loss: 0.9037 - val_acc: 0.5714\n",
            "\n",
            "Epoch 00007: val_loss did not improve from 0.79986\n",
            "Epoch 8/200\n",
            "25/25 [==============================] - 0s 14ms/step - loss: 1.1984 - acc: 0.4800 - val_loss: 0.8397 - val_acc: 0.7143\n",
            "\n",
            "Epoch 00008: val_loss did not improve from 0.79986\n",
            "Epoch 9/200\n",
            "25/25 [==============================] - 0s 14ms/step - loss: 1.1749 - acc: 0.5600 - val_loss: 0.8076 - val_acc: 0.7143\n",
            "\n",
            "Epoch 00009: val_loss did not improve from 0.79986\n",
            "Epoch 10/200\n",
            "25/25 [==============================] - 0s 14ms/step - loss: 1.1318 - acc: 0.4800 - val_loss: 0.6939 - val_acc: 0.8571\n",
            "\n",
            "Epoch 00010: val_loss improved from 0.79986 to 0.69386, saving model to model.h5\n",
            "Epoch 11/200\n",
            "25/25 [==============================] - 0s 14ms/step - loss: 0.9954 - acc: 0.6000 - val_loss: 0.6508 - val_acc: 0.7143\n",
            "\n",
            "Epoch 00011: val_loss improved from 0.69386 to 0.65078, saving model to model.h5\n",
            "Epoch 12/200\n",
            "25/25 [==============================] - 0s 14ms/step - loss: 1.1064 - acc: 0.5600 - val_loss: 0.6558 - val_acc: 0.7143\n",
            "\n",
            "Epoch 00012: val_loss did not improve from 0.65078\n",
            "Epoch 13/200\n",
            "25/25 [==============================] - 0s 14ms/step - loss: 0.8488 - acc: 0.6000 - val_loss: 0.6314 - val_acc: 0.7143\n",
            "\n",
            "Epoch 00013: val_loss improved from 0.65078 to 0.63144, saving model to model.h5\n",
            "Epoch 14/200\n",
            "25/25 [==============================] - 0s 14ms/step - loss: 0.8893 - acc: 0.5600 - val_loss: 0.6367 - val_acc: 0.7143\n",
            "\n",
            "Epoch 00014: val_loss did not improve from 0.63144\n",
            "Epoch 15/200\n",
            "25/25 [==============================] - 0s 14ms/step - loss: 1.0577 - acc: 0.4800 - val_loss: 0.6253 - val_acc: 0.7143\n",
            "\n",
            "Epoch 00015: val_loss improved from 0.63144 to 0.62532, saving model to model.h5\n",
            "Epoch 16/200\n",
            "25/25 [==============================] - 0s 15ms/step - loss: 0.7403 - acc: 0.6400 - val_loss: 0.6429 - val_acc: 0.7143\n",
            "\n",
            "Epoch 00016: val_loss did not improve from 0.62532\n",
            "Epoch 17/200\n",
            "25/25 [==============================] - 0s 14ms/step - loss: 0.5138 - acc: 0.7600 - val_loss: 0.8784 - val_acc: 0.5714\n",
            "\n",
            "Epoch 00017: val_loss did not improve from 0.62532\n",
            "Epoch 18/200\n",
            "25/25 [==============================] - 0s 13ms/step - loss: 0.7873 - acc: 0.5600 - val_loss: 1.0684 - val_acc: 0.5714\n",
            "\n",
            "Epoch 00018: val_loss did not improve from 0.62532\n",
            "Epoch 19/200\n",
            "25/25 [==============================] - 0s 13ms/step - loss: 0.8012 - acc: 0.6800 - val_loss: 0.7616 - val_acc: 0.7143\n",
            "\n",
            "Epoch 00019: val_loss did not improve from 0.62532\n",
            "Epoch 20/200\n",
            "25/25 [==============================] - 0s 13ms/step - loss: 0.6072 - acc: 0.7200 - val_loss: 0.5680 - val_acc: 0.7143\n",
            "\n",
            "Epoch 00020: val_loss improved from 0.62532 to 0.56799, saving model to model.h5\n",
            "Epoch 21/200\n",
            "25/25 [==============================] - 0s 13ms/step - loss: 0.3705 - acc: 0.8800 - val_loss: 0.4240 - val_acc: 0.7143\n",
            "\n",
            "Epoch 00021: val_loss improved from 0.56799 to 0.42400, saving model to model.h5\n",
            "Epoch 22/200\n",
            "25/25 [==============================] - 0s 14ms/step - loss: 0.5363 - acc: 0.8000 - val_loss: 0.3706 - val_acc: 0.7143\n",
            "\n",
            "Epoch 00022: val_loss improved from 0.42400 to 0.37058, saving model to model.h5\n",
            "Epoch 23/200\n",
            "25/25 [==============================] - 0s 13ms/step - loss: 0.4325 - acc: 0.8400 - val_loss: 0.5469 - val_acc: 0.7143\n",
            "\n",
            "Epoch 00023: val_loss did not improve from 0.37058\n",
            "Epoch 24/200\n",
            "25/25 [==============================] - 0s 14ms/step - loss: 0.3758 - acc: 0.8000 - val_loss: 0.3510 - val_acc: 0.7143\n",
            "\n",
            "Epoch 00024: val_loss improved from 0.37058 to 0.35101, saving model to model.h5\n",
            "Epoch 25/200\n",
            "25/25 [==============================] - 0s 16ms/step - loss: 0.2305 - acc: 0.9600 - val_loss: 0.3343 - val_acc: 0.7143\n",
            "\n",
            "Epoch 00025: val_loss improved from 0.35101 to 0.33433, saving model to model.h5\n",
            "Epoch 26/200\n",
            "25/25 [==============================] - 0s 16ms/step - loss: 0.2346 - acc: 0.9200 - val_loss: 0.3698 - val_acc: 0.7143\n",
            "\n",
            "Epoch 00026: val_loss did not improve from 0.33433\n",
            "Epoch 27/200\n",
            "25/25 [==============================] - 0s 13ms/step - loss: 0.1161 - acc: 1.0000 - val_loss: 0.3551 - val_acc: 0.7143\n",
            "\n",
            "Epoch 00027: val_loss did not improve from 0.33433\n",
            "Epoch 28/200\n",
            "25/25 [==============================] - 0s 14ms/step - loss: 0.2304 - acc: 0.9200 - val_loss: 0.4903 - val_acc: 0.7143\n",
            "\n",
            "Epoch 00028: val_loss did not improve from 0.33433\n",
            "Epoch 29/200\n",
            "25/25 [==============================] - 0s 14ms/step - loss: 0.1354 - acc: 0.9600 - val_loss: 0.4695 - val_acc: 0.7143\n",
            "\n",
            "Epoch 00029: val_loss did not improve from 0.33433\n",
            "Epoch 30/200\n",
            "25/25 [==============================] - 0s 13ms/step - loss: 0.1377 - acc: 0.9600 - val_loss: 0.5218 - val_acc: 0.7143\n",
            "\n",
            "Epoch 00030: val_loss did not improve from 0.33433\n",
            "Epoch 31/200\n",
            "25/25 [==============================] - 0s 13ms/step - loss: 0.0595 - acc: 1.0000 - val_loss: 0.6934 - val_acc: 0.7143\n",
            "\n",
            "Epoch 00031: val_loss did not improve from 0.33433\n",
            "Epoch 32/200\n",
            "25/25 [==============================] - 0s 14ms/step - loss: 0.0649 - acc: 1.0000 - val_loss: 0.9796 - val_acc: 0.7143\n",
            "\n",
            "Epoch 00032: val_loss did not improve from 0.33433\n",
            "Epoch 33/200\n",
            "25/25 [==============================] - 0s 13ms/step - loss: 0.1666 - acc: 0.9200 - val_loss: 0.8703 - val_acc: 0.7143\n",
            "\n",
            "Epoch 00033: val_loss did not improve from 0.33433\n",
            "Epoch 34/200\n",
            "25/25 [==============================] - 0s 13ms/step - loss: 0.0837 - acc: 1.0000 - val_loss: 0.6943 - val_acc: 0.7143\n",
            "\n",
            "Epoch 00034: val_loss did not improve from 0.33433\n",
            "Epoch 35/200\n",
            "25/25 [==============================] - 0s 14ms/step - loss: 0.0865 - acc: 1.0000 - val_loss: 0.8291 - val_acc: 0.7143\n",
            "\n",
            "Epoch 00035: val_loss did not improve from 0.33433\n",
            "Epoch 36/200\n",
            "25/25 [==============================] - 0s 13ms/step - loss: 0.0472 - acc: 1.0000 - val_loss: 1.1122 - val_acc: 0.7143\n",
            "\n",
            "Epoch 00036: val_loss did not improve from 0.33433\n",
            "Epoch 37/200\n",
            "25/25 [==============================] - 0s 13ms/step - loss: 0.0119 - acc: 1.0000 - val_loss: 1.3697 - val_acc: 0.7143\n",
            "\n",
            "Epoch 00037: val_loss did not improve from 0.33433\n",
            "Epoch 38/200\n",
            "25/25 [==============================] - 0s 13ms/step - loss: 0.1698 - acc: 0.9600 - val_loss: 1.4806 - val_acc: 0.7143\n",
            "\n",
            "Epoch 00038: val_loss did not improve from 0.33433\n",
            "Epoch 39/200\n",
            "25/25 [==============================] - 0s 14ms/step - loss: 0.0547 - acc: 1.0000 - val_loss: 1.4432 - val_acc: 0.7143\n",
            "\n",
            "Epoch 00039: val_loss did not improve from 0.33433\n",
            "Epoch 40/200\n",
            "25/25 [==============================] - 0s 14ms/step - loss: 0.0139 - acc: 1.0000 - val_loss: 1.3348 - val_acc: 0.7143\n",
            "\n",
            "Epoch 00040: val_loss did not improve from 0.33433\n",
            "Epoch 41/200\n",
            "25/25 [==============================] - 0s 13ms/step - loss: 0.0128 - acc: 1.0000 - val_loss: 1.2453 - val_acc: 0.7143\n",
            "\n",
            "Epoch 00041: val_loss did not improve from 0.33433\n",
            "Epoch 42/200\n",
            "25/25 [==============================] - 0s 13ms/step - loss: 0.0358 - acc: 1.0000 - val_loss: 1.0982 - val_acc: 0.7143\n",
            "\n",
            "Epoch 00042: val_loss did not improve from 0.33433\n",
            "Epoch 43/200\n",
            "25/25 [==============================] - 0s 13ms/step - loss: 0.1019 - acc: 0.9600 - val_loss: 1.2013 - val_acc: 0.7143\n",
            "\n",
            "Epoch 00043: val_loss did not improve from 0.33433\n",
            "Epoch 44/200\n",
            "25/25 [==============================] - 0s 13ms/step - loss: 0.0730 - acc: 1.0000 - val_loss: 1.8543 - val_acc: 0.7143\n",
            "\n",
            "Epoch 00044: val_loss did not improve from 0.33433\n",
            "Epoch 45/200\n",
            "25/25 [==============================] - 0s 14ms/step - loss: 0.0464 - acc: 1.0000 - val_loss: 2.1067 - val_acc: 0.7143\n",
            "\n",
            "Epoch 00045: val_loss did not improve from 0.33433\n",
            "Epoch 46/200\n",
            "25/25 [==============================] - 0s 14ms/step - loss: 0.1747 - acc: 0.9600 - val_loss: 1.8769 - val_acc: 0.7143\n",
            "\n",
            "Epoch 00046: val_loss did not improve from 0.33433\n",
            "Epoch 47/200\n",
            "25/25 [==============================] - 0s 14ms/step - loss: 0.0694 - acc: 0.9600 - val_loss: 1.6071 - val_acc: 0.7143\n",
            "\n",
            "Epoch 00047: val_loss did not improve from 0.33433\n",
            "Epoch 48/200\n",
            "25/25 [==============================] - 0s 14ms/step - loss: 0.0768 - acc: 1.0000 - val_loss: 1.2879 - val_acc: 0.7143\n",
            "\n",
            "Epoch 00048: val_loss did not improve from 0.33433\n",
            "Epoch 49/200\n",
            "25/25 [==============================] - 0s 14ms/step - loss: 0.0417 - acc: 1.0000 - val_loss: 1.5101 - val_acc: 0.7143\n",
            "\n",
            "Epoch 00049: val_loss did not improve from 0.33433\n",
            "Epoch 50/200\n",
            "25/25 [==============================] - 0s 14ms/step - loss: 0.2107 - acc: 0.9200 - val_loss: 0.8956 - val_acc: 0.7143\n",
            "\n",
            "Epoch 00050: val_loss did not improve from 0.33433\n",
            "Epoch 51/200\n",
            "25/25 [==============================] - 0s 15ms/step - loss: 0.0163 - acc: 1.0000 - val_loss: 0.5712 - val_acc: 0.7143\n",
            "\n",
            "Epoch 00051: val_loss did not improve from 0.33433\n",
            "Epoch 52/200\n",
            "25/25 [==============================] - 0s 14ms/step - loss: 0.1156 - acc: 0.9600 - val_loss: 0.6502 - val_acc: 0.7143\n",
            "\n",
            "Epoch 00052: val_loss did not improve from 0.33433\n",
            "Epoch 53/200\n",
            "25/25 [==============================] - 0s 13ms/step - loss: 0.1437 - acc: 0.8800 - val_loss: 1.2664 - val_acc: 0.7143\n",
            "\n",
            "Epoch 00053: val_loss did not improve from 0.33433\n",
            "Epoch 54/200\n",
            "25/25 [==============================] - 0s 14ms/step - loss: 0.0174 - acc: 1.0000 - val_loss: 1.7333 - val_acc: 0.7143\n",
            "\n",
            "Epoch 00054: val_loss did not improve from 0.33433\n",
            "Epoch 55/200\n",
            "25/25 [==============================] - 0s 14ms/step - loss: 0.0400 - acc: 0.9600 - val_loss: 2.0776 - val_acc: 0.7143\n",
            "\n",
            "Epoch 00055: val_loss did not improve from 0.33433\n",
            "Epoch 56/200\n",
            "25/25 [==============================] - 0s 13ms/step - loss: 0.0311 - acc: 1.0000 - val_loss: 2.2869 - val_acc: 0.7143\n",
            "\n",
            "Epoch 00056: val_loss did not improve from 0.33433\n",
            "Epoch 57/200\n",
            "25/25 [==============================] - 0s 13ms/step - loss: 0.0414 - acc: 1.0000 - val_loss: 2.1623 - val_acc: 0.7143\n",
            "\n",
            "Epoch 00057: val_loss did not improve from 0.33433\n",
            "Epoch 58/200\n",
            "25/25 [==============================] - 0s 14ms/step - loss: 0.0175 - acc: 1.0000 - val_loss: 2.0173 - val_acc: 0.7143\n",
            "\n",
            "Epoch 00058: val_loss did not improve from 0.33433\n",
            "Epoch 59/200\n",
            "25/25 [==============================] - 0s 13ms/step - loss: 0.0446 - acc: 1.0000 - val_loss: 1.8366 - val_acc: 0.7143\n",
            "\n",
            "Epoch 00059: val_loss did not improve from 0.33433\n",
            "Epoch 60/200\n",
            "25/25 [==============================] - 0s 13ms/step - loss: 0.0087 - acc: 1.0000 - val_loss: 1.6101 - val_acc: 0.7143\n",
            "\n",
            "Epoch 00060: val_loss did not improve from 0.33433\n",
            "Epoch 61/200\n",
            "25/25 [==============================] - 0s 13ms/step - loss: 0.0400 - acc: 0.9600 - val_loss: 1.4769 - val_acc: 0.7143\n",
            "\n",
            "Epoch 00061: val_loss did not improve from 0.33433\n",
            "Epoch 62/200\n",
            "25/25 [==============================] - 0s 13ms/step - loss: 0.0311 - acc: 1.0000 - val_loss: 1.4474 - val_acc: 0.7143\n",
            "\n",
            "Epoch 00062: val_loss did not improve from 0.33433\n",
            "Epoch 63/200\n",
            "25/25 [==============================] - 0s 13ms/step - loss: 0.0441 - acc: 1.0000 - val_loss: 1.3509 - val_acc: 0.7143\n",
            "\n",
            "Epoch 00063: val_loss did not improve from 0.33433\n",
            "Epoch 64/200\n",
            "25/25 [==============================] - 0s 13ms/step - loss: 0.0056 - acc: 1.0000 - val_loss: 1.1998 - val_acc: 0.7143\n",
            "\n",
            "Epoch 00064: val_loss did not improve from 0.33433\n",
            "Epoch 65/200\n",
            "25/25 [==============================] - 0s 13ms/step - loss: 0.0386 - acc: 1.0000 - val_loss: 1.1644 - val_acc: 0.7143\n",
            "\n",
            "Epoch 00065: val_loss did not improve from 0.33433\n",
            "Epoch 66/200\n",
            "25/25 [==============================] - 0s 14ms/step - loss: 0.0095 - acc: 1.0000 - val_loss: 1.1860 - val_acc: 0.7143\n",
            "\n",
            "Epoch 00066: val_loss did not improve from 0.33433\n",
            "Epoch 67/200\n",
            "25/25 [==============================] - 0s 13ms/step - loss: 0.0524 - acc: 0.9600 - val_loss: 1.1548 - val_acc: 0.7143\n",
            "\n",
            "Epoch 00067: val_loss did not improve from 0.33433\n",
            "Epoch 68/200\n",
            "25/25 [==============================] - 0s 13ms/step - loss: 0.0083 - acc: 1.0000 - val_loss: 1.1537 - val_acc: 0.7143\n",
            "\n",
            "Epoch 00068: val_loss did not improve from 0.33433\n",
            "Epoch 69/200\n",
            "25/25 [==============================] - 0s 13ms/step - loss: 0.0057 - acc: 1.0000 - val_loss: 1.2121 - val_acc: 0.7143\n",
            "\n",
            "Epoch 00069: val_loss did not improve from 0.33433\n",
            "Epoch 70/200\n",
            "25/25 [==============================] - 0s 13ms/step - loss: 0.0018 - acc: 1.0000 - val_loss: 1.2446 - val_acc: 0.7143\n",
            "\n",
            "Epoch 00070: val_loss did not improve from 0.33433\n",
            "Epoch 71/200\n",
            "25/25 [==============================] - 0s 13ms/step - loss: 0.1188 - acc: 0.9200 - val_loss: 1.3488 - val_acc: 0.7143\n",
            "\n",
            "Epoch 00071: val_loss did not improve from 0.33433\n",
            "Epoch 72/200\n",
            "25/25 [==============================] - 0s 13ms/step - loss: 0.0149 - acc: 1.0000 - val_loss: 1.3908 - val_acc: 0.7143\n",
            "\n",
            "Epoch 00072: val_loss did not improve from 0.33433\n",
            "Epoch 73/200\n",
            "25/25 [==============================] - 0s 13ms/step - loss: 0.0215 - acc: 1.0000 - val_loss: 1.4751 - val_acc: 0.7143\n",
            "\n",
            "Epoch 00073: val_loss did not improve from 0.33433\n",
            "Epoch 74/200\n",
            "25/25 [==============================] - 0s 13ms/step - loss: 0.0033 - acc: 1.0000 - val_loss: 1.5336 - val_acc: 0.7143\n",
            "\n",
            "Epoch 00074: val_loss did not improve from 0.33433\n",
            "Epoch 75/200\n",
            "25/25 [==============================] - 0s 14ms/step - loss: 0.0467 - acc: 1.0000 - val_loss: 1.5459 - val_acc: 0.7143\n",
            "\n",
            "Epoch 00075: val_loss did not improve from 0.33433\n",
            "Epoch 76/200\n",
            "25/25 [==============================] - 0s 13ms/step - loss: 0.0411 - acc: 1.0000 - val_loss: 1.6553 - val_acc: 0.7143\n",
            "\n",
            "Epoch 00076: val_loss did not improve from 0.33433\n",
            "Epoch 77/200\n",
            "25/25 [==============================] - 0s 13ms/step - loss: 0.0674 - acc: 0.9600 - val_loss: 1.6486 - val_acc: 0.7143\n",
            "\n",
            "Epoch 00077: val_loss did not improve from 0.33433\n",
            "Epoch 78/200\n",
            "25/25 [==============================] - 0s 13ms/step - loss: 0.0195 - acc: 1.0000 - val_loss: 1.2540 - val_acc: 0.7143\n",
            "\n",
            "Epoch 00078: val_loss did not improve from 0.33433\n",
            "Epoch 79/200\n",
            "25/25 [==============================] - 0s 14ms/step - loss: 0.0126 - acc: 1.0000 - val_loss: 0.9451 - val_acc: 0.7143\n",
            "\n",
            "Epoch 00079: val_loss did not improve from 0.33433\n",
            "Epoch 80/200\n",
            "25/25 [==============================] - 0s 13ms/step - loss: 0.0022 - acc: 1.0000 - val_loss: 0.7415 - val_acc: 0.7143\n",
            "\n",
            "Epoch 00080: val_loss did not improve from 0.33433\n",
            "Epoch 81/200\n",
            "25/25 [==============================] - 0s 15ms/step - loss: 0.0014 - acc: 1.0000 - val_loss: 0.6236 - val_acc: 0.7143\n",
            "\n",
            "Epoch 00081: val_loss did not improve from 0.33433\n",
            "Epoch 82/200\n",
            "25/25 [==============================] - 0s 14ms/step - loss: 0.0044 - acc: 1.0000 - val_loss: 0.5513 - val_acc: 0.8571\n",
            "\n",
            "Epoch 00082: val_loss did not improve from 0.33433\n",
            "Epoch 83/200\n",
            "25/25 [==============================] - 0s 14ms/step - loss: 0.0035 - acc: 1.0000 - val_loss: 0.5199 - val_acc: 0.8571\n",
            "\n",
            "Epoch 00083: val_loss did not improve from 0.33433\n",
            "Epoch 84/200\n",
            "25/25 [==============================] - 0s 14ms/step - loss: 0.0283 - acc: 1.0000 - val_loss: 0.7318 - val_acc: 0.7143\n",
            "\n",
            "Epoch 00084: val_loss did not improve from 0.33433\n",
            "Epoch 85/200\n",
            "25/25 [==============================] - 0s 13ms/step - loss: 0.0775 - acc: 1.0000 - val_loss: 1.3196 - val_acc: 0.7143\n",
            "\n",
            "Epoch 00085: val_loss did not improve from 0.33433\n",
            "Epoch 86/200\n",
            "25/25 [==============================] - 0s 13ms/step - loss: 0.0166 - acc: 1.0000 - val_loss: 1.7395 - val_acc: 0.7143\n",
            "\n",
            "Epoch 00086: val_loss did not improve from 0.33433\n",
            "Epoch 87/200\n",
            "25/25 [==============================] - 0s 14ms/step - loss: 0.0346 - acc: 1.0000 - val_loss: 2.0510 - val_acc: 0.7143\n",
            "\n",
            "Epoch 00087: val_loss did not improve from 0.33433\n",
            "Epoch 88/200\n",
            "25/25 [==============================] - 0s 13ms/step - loss: 0.0161 - acc: 1.0000 - val_loss: 2.2662 - val_acc: 0.7143\n",
            "\n",
            "Epoch 00088: val_loss did not improve from 0.33433\n",
            "Epoch 89/200\n",
            "25/25 [==============================] - 0s 13ms/step - loss: 0.0032 - acc: 1.0000 - val_loss: 2.4101 - val_acc: 0.7143\n",
            "\n",
            "Epoch 00089: val_loss did not improve from 0.33433\n",
            "Epoch 90/200\n",
            "25/25 [==============================] - 0s 13ms/step - loss: 0.0095 - acc: 1.0000 - val_loss: 2.5163 - val_acc: 0.7143\n",
            "\n",
            "Epoch 00090: val_loss did not improve from 0.33433\n",
            "Epoch 91/200\n",
            "25/25 [==============================] - 0s 14ms/step - loss: 0.0344 - acc: 1.0000 - val_loss: 2.6010 - val_acc: 0.7143\n",
            "\n",
            "Epoch 00091: val_loss did not improve from 0.33433\n",
            "Epoch 92/200\n",
            "25/25 [==============================] - 0s 13ms/step - loss: 0.0326 - acc: 1.0000 - val_loss: 2.5261 - val_acc: 0.7143\n",
            "\n",
            "Epoch 00092: val_loss did not improve from 0.33433\n",
            "Epoch 93/200\n",
            "25/25 [==============================] - 0s 14ms/step - loss: 0.0013 - acc: 1.0000 - val_loss: 2.2262 - val_acc: 0.7143\n",
            "\n",
            "Epoch 00093: val_loss did not improve from 0.33433\n",
            "Epoch 94/200\n",
            "25/25 [==============================] - 0s 13ms/step - loss: 0.0060 - acc: 1.0000 - val_loss: 1.9767 - val_acc: 0.7143\n",
            "\n",
            "Epoch 00094: val_loss did not improve from 0.33433\n",
            "Epoch 95/200\n",
            "25/25 [==============================] - 0s 13ms/step - loss: 0.0264 - acc: 1.0000 - val_loss: 1.8257 - val_acc: 0.7143\n",
            "\n",
            "Epoch 00095: val_loss did not improve from 0.33433\n",
            "Epoch 96/200\n",
            "25/25 [==============================] - 0s 14ms/step - loss: 0.0039 - acc: 1.0000 - val_loss: 1.7627 - val_acc: 0.7143\n",
            "\n",
            "Epoch 00096: val_loss did not improve from 0.33433\n",
            "Epoch 97/200\n",
            "25/25 [==============================] - 0s 13ms/step - loss: 0.0202 - acc: 1.0000 - val_loss: 1.7959 - val_acc: 0.7143\n",
            "\n",
            "Epoch 00097: val_loss did not improve from 0.33433\n",
            "Epoch 98/200\n",
            "25/25 [==============================] - 0s 14ms/step - loss: 0.0258 - acc: 1.0000 - val_loss: 1.8135 - val_acc: 0.7143\n",
            "\n",
            "Epoch 00098: val_loss did not improve from 0.33433\n",
            "Epoch 99/200\n",
            "25/25 [==============================] - 0s 14ms/step - loss: 0.0050 - acc: 1.0000 - val_loss: 1.6512 - val_acc: 0.7143\n",
            "\n",
            "Epoch 00099: val_loss did not improve from 0.33433\n",
            "Epoch 100/200\n",
            "25/25 [==============================] - 0s 14ms/step - loss: 0.1122 - acc: 0.9200 - val_loss: 2.2389 - val_acc: 0.7143\n",
            "\n",
            "Epoch 00100: val_loss did not improve from 0.33433\n",
            "Epoch 101/200\n",
            "25/25 [==============================] - 0s 13ms/step - loss: 0.0811 - acc: 1.0000 - val_loss: 3.1442 - val_acc: 0.7143\n",
            "\n",
            "Epoch 00101: val_loss did not improve from 0.33433\n",
            "Epoch 102/200\n",
            "25/25 [==============================] - 0s 14ms/step - loss: 0.0105 - acc: 1.0000 - val_loss: 3.3067 - val_acc: 0.7143\n",
            "\n",
            "Epoch 00102: val_loss did not improve from 0.33433\n",
            "Epoch 103/200\n",
            "25/25 [==============================] - 0s 14ms/step - loss: 0.0861 - acc: 0.9600 - val_loss: 3.0433 - val_acc: 0.7143\n",
            "\n",
            "Epoch 00103: val_loss did not improve from 0.33433\n",
            "Epoch 104/200\n",
            "25/25 [==============================] - 0s 13ms/step - loss: 0.0187 - acc: 1.0000 - val_loss: 2.5809 - val_acc: 0.7143\n",
            "\n",
            "Epoch 00104: val_loss did not improve from 0.33433\n",
            "Epoch 105/200\n",
            "25/25 [==============================] - 0s 14ms/step - loss: 0.0160 - acc: 1.0000 - val_loss: 2.0996 - val_acc: 0.7143\n",
            "\n",
            "Epoch 00105: val_loss did not improve from 0.33433\n",
            "Epoch 106/200\n",
            "25/25 [==============================] - 0s 14ms/step - loss: 0.0073 - acc: 1.0000 - val_loss: 1.7356 - val_acc: 0.7143\n",
            "\n",
            "Epoch 00106: val_loss did not improve from 0.33433\n",
            "Epoch 107/200\n",
            "25/25 [==============================] - 0s 13ms/step - loss: 0.0023 - acc: 1.0000 - val_loss: 1.4844 - val_acc: 0.7143\n",
            "\n",
            "Epoch 00107: val_loss did not improve from 0.33433\n",
            "Epoch 108/200\n",
            "25/25 [==============================] - 0s 12ms/step - loss: 0.1556 - acc: 0.9200 - val_loss: 1.5265 - val_acc: 0.7143\n",
            "\n",
            "Epoch 00108: val_loss did not improve from 0.33433\n",
            "Epoch 109/200\n",
            "25/25 [==============================] - 0s 13ms/step - loss: 0.0287 - acc: 1.0000 - val_loss: 1.8622 - val_acc: 0.7143\n",
            "\n",
            "Epoch 00109: val_loss did not improve from 0.33433\n",
            "Epoch 110/200\n",
            "25/25 [==============================] - 0s 13ms/step - loss: 0.0086 - acc: 1.0000 - val_loss: 2.0194 - val_acc: 0.7143\n",
            "\n",
            "Epoch 00110: val_loss did not improve from 0.33433\n",
            "Epoch 111/200\n",
            "25/25 [==============================] - 0s 14ms/step - loss: 0.0107 - acc: 1.0000 - val_loss: 2.0879 - val_acc: 0.7143\n",
            "\n",
            "Epoch 00111: val_loss did not improve from 0.33433\n",
            "Epoch 112/200\n",
            "25/25 [==============================] - 0s 14ms/step - loss: 0.0011 - acc: 1.0000 - val_loss: 2.0954 - val_acc: 0.7143\n",
            "\n",
            "Epoch 00112: val_loss did not improve from 0.33433\n",
            "Epoch 113/200\n",
            "25/25 [==============================] - 0s 13ms/step - loss: 0.0045 - acc: 1.0000 - val_loss: 2.0653 - val_acc: 0.7143\n",
            "\n",
            "Epoch 00113: val_loss did not improve from 0.33433\n",
            "Epoch 114/200\n",
            "25/25 [==============================] - 0s 14ms/step - loss: 0.0160 - acc: 1.0000 - val_loss: 2.0319 - val_acc: 0.7143\n",
            "\n",
            "Epoch 00114: val_loss did not improve from 0.33433\n",
            "Epoch 115/200\n",
            "25/25 [==============================] - 0s 13ms/step - loss: 0.0040 - acc: 1.0000 - val_loss: 2.0570 - val_acc: 0.7143\n",
            "\n",
            "Epoch 00115: val_loss did not improve from 0.33433\n",
            "Epoch 116/200\n",
            "25/25 [==============================] - 0s 13ms/step - loss: 0.0066 - acc: 1.0000 - val_loss: 2.0966 - val_acc: 0.7143\n",
            "\n",
            "Epoch 00116: val_loss did not improve from 0.33433\n",
            "Epoch 117/200\n",
            "25/25 [==============================] - 0s 13ms/step - loss: 0.0013 - acc: 1.0000 - val_loss: 2.1108 - val_acc: 0.7143\n",
            "\n",
            "Epoch 00117: val_loss did not improve from 0.33433\n",
            "Epoch 118/200\n",
            "25/25 [==============================] - 0s 14ms/step - loss: 0.0213 - acc: 1.0000 - val_loss: 2.1236 - val_acc: 0.7143\n",
            "\n",
            "Epoch 00118: val_loss did not improve from 0.33433\n",
            "Epoch 119/200\n",
            "25/25 [==============================] - 0s 13ms/step - loss: 0.0030 - acc: 1.0000 - val_loss: 2.0846 - val_acc: 0.7143\n",
            "\n",
            "Epoch 00119: val_loss did not improve from 0.33433\n",
            "Epoch 120/200\n",
            "25/25 [==============================] - 0s 13ms/step - loss: 0.0027 - acc: 1.0000 - val_loss: 2.0633 - val_acc: 0.7143\n",
            "\n",
            "Epoch 00120: val_loss did not improve from 0.33433\n",
            "Epoch 121/200\n",
            "25/25 [==============================] - 0s 13ms/step - loss: 0.1097 - acc: 0.9200 - val_loss: 2.1339 - val_acc: 0.7143\n",
            "\n",
            "Epoch 00121: val_loss did not improve from 0.33433\n",
            "Epoch 122/200\n",
            "25/25 [==============================] - 0s 14ms/step - loss: 0.0083 - acc: 1.0000 - val_loss: 2.3126 - val_acc: 0.7143\n",
            "\n",
            "Epoch 00122: val_loss did not improve from 0.33433\n",
            "Epoch 123/200\n",
            "25/25 [==============================] - 0s 14ms/step - loss: 0.0034 - acc: 1.0000 - val_loss: 2.3834 - val_acc: 0.7143\n",
            "\n",
            "Epoch 00123: val_loss did not improve from 0.33433\n",
            "Epoch 124/200\n",
            "25/25 [==============================] - 0s 13ms/step - loss: 0.0017 - acc: 1.0000 - val_loss: 2.4316 - val_acc: 0.7143\n",
            "\n",
            "Epoch 00124: val_loss did not improve from 0.33433\n",
            "Epoch 125/200\n",
            "25/25 [==============================] - 0s 14ms/step - loss: 0.0392 - acc: 0.9600 - val_loss: 2.3785 - val_acc: 0.7143\n",
            "\n",
            "Epoch 00125: val_loss did not improve from 0.33433\n",
            "Epoch 126/200\n",
            "25/25 [==============================] - 0s 14ms/step - loss: 0.0176 - acc: 1.0000 - val_loss: 2.2644 - val_acc: 0.7143\n",
            "\n",
            "Epoch 00126: val_loss did not improve from 0.33433\n",
            "Epoch 127/200\n",
            "25/25 [==============================] - 0s 13ms/step - loss: 9.0576e-04 - acc: 1.0000 - val_loss: 2.1868 - val_acc: 0.7143\n",
            "\n",
            "Epoch 00127: val_loss did not improve from 0.33433\n",
            "Epoch 128/200\n",
            "25/25 [==============================] - 0s 13ms/step - loss: 0.0026 - acc: 1.0000 - val_loss: 2.1355 - val_acc: 0.7143\n",
            "\n",
            "Epoch 00128: val_loss did not improve from 0.33433\n",
            "Epoch 129/200\n",
            "25/25 [==============================] - 0s 14ms/step - loss: 0.0013 - acc: 1.0000 - val_loss: 2.0918 - val_acc: 0.7143\n",
            "\n",
            "Epoch 00129: val_loss did not improve from 0.33433\n",
            "Epoch 130/200\n",
            "25/25 [==============================] - 0s 14ms/step - loss: 0.0041 - acc: 1.0000 - val_loss: 2.0528 - val_acc: 0.7143\n",
            "\n",
            "Epoch 00130: val_loss did not improve from 0.33433\n",
            "Epoch 131/200\n",
            "25/25 [==============================] - 0s 14ms/step - loss: 0.0012 - acc: 1.0000 - val_loss: 2.0225 - val_acc: 0.7143\n",
            "\n",
            "Epoch 00131: val_loss did not improve from 0.33433\n",
            "Epoch 132/200\n",
            "25/25 [==============================] - 0s 13ms/step - loss: 0.0159 - acc: 1.0000 - val_loss: 1.9804 - val_acc: 0.7143\n",
            "\n",
            "Epoch 00132: val_loss did not improve from 0.33433\n",
            "Epoch 133/200\n",
            "25/25 [==============================] - 0s 14ms/step - loss: 0.0236 - acc: 1.0000 - val_loss: 1.9062 - val_acc: 0.7143\n",
            "\n",
            "Epoch 00133: val_loss did not improve from 0.33433\n",
            "Epoch 134/200\n",
            "25/25 [==============================] - 0s 13ms/step - loss: 0.0035 - acc: 1.0000 - val_loss: 1.8549 - val_acc: 0.7143\n",
            "\n",
            "Epoch 00134: val_loss did not improve from 0.33433\n",
            "Epoch 135/200\n",
            "25/25 [==============================] - 0s 14ms/step - loss: 9.3000e-04 - acc: 1.0000 - val_loss: 1.8135 - val_acc: 0.7143\n",
            "\n",
            "Epoch 00135: val_loss did not improve from 0.33433\n",
            "Epoch 136/200\n",
            "25/25 [==============================] - 0s 14ms/step - loss: 0.0028 - acc: 1.0000 - val_loss: 1.7981 - val_acc: 0.7143\n",
            "\n",
            "Epoch 00136: val_loss did not improve from 0.33433\n",
            "Epoch 137/200\n",
            "25/25 [==============================] - 0s 13ms/step - loss: 0.0019 - acc: 1.0000 - val_loss: 1.7936 - val_acc: 0.7143\n",
            "\n",
            "Epoch 00137: val_loss did not improve from 0.33433\n",
            "Epoch 138/200\n",
            "25/25 [==============================] - 0s 14ms/step - loss: 4.7987e-04 - acc: 1.0000 - val_loss: 1.7887 - val_acc: 0.7143\n",
            "\n",
            "Epoch 00138: val_loss did not improve from 0.33433\n",
            "Epoch 139/200\n",
            "25/25 [==============================] - 0s 13ms/step - loss: 0.0035 - acc: 1.0000 - val_loss: 1.7961 - val_acc: 0.7143\n",
            "\n",
            "Epoch 00139: val_loss did not improve from 0.33433\n",
            "Epoch 140/200\n",
            "25/25 [==============================] - 0s 13ms/step - loss: 0.0035 - acc: 1.0000 - val_loss: 1.8301 - val_acc: 0.7143\n",
            "\n",
            "Epoch 00140: val_loss did not improve from 0.33433\n",
            "Epoch 141/200\n",
            "25/25 [==============================] - 0s 13ms/step - loss: 0.0075 - acc: 1.0000 - val_loss: 1.8743 - val_acc: 0.7143\n",
            "\n",
            "Epoch 00141: val_loss did not improve from 0.33433\n",
            "Epoch 142/200\n",
            "25/25 [==============================] - 0s 15ms/step - loss: 0.0102 - acc: 1.0000 - val_loss: 1.9506 - val_acc: 0.7143\n",
            "\n",
            "Epoch 00142: val_loss did not improve from 0.33433\n",
            "Epoch 143/200\n",
            "25/25 [==============================] - 0s 13ms/step - loss: 3.0191e-04 - acc: 1.0000 - val_loss: 1.9719 - val_acc: 0.7143\n",
            "\n",
            "Epoch 00143: val_loss did not improve from 0.33433\n",
            "Epoch 144/200\n",
            "25/25 [==============================] - 0s 13ms/step - loss: 0.0029 - acc: 1.0000 - val_loss: 2.0010 - val_acc: 0.7143\n",
            "\n",
            "Epoch 00144: val_loss did not improve from 0.33433\n",
            "Epoch 145/200\n",
            "25/25 [==============================] - 0s 13ms/step - loss: 0.0220 - acc: 1.0000 - val_loss: 2.0689 - val_acc: 0.7143\n",
            "\n",
            "Epoch 00145: val_loss did not improve from 0.33433\n",
            "Epoch 146/200\n",
            "25/25 [==============================] - 0s 14ms/step - loss: 0.1299 - acc: 0.9600 - val_loss: 2.0327 - val_acc: 0.7143\n",
            "\n",
            "Epoch 00146: val_loss did not improve from 0.33433\n",
            "Epoch 147/200\n",
            "25/25 [==============================] - 0s 14ms/step - loss: 3.6165e-04 - acc: 1.0000 - val_loss: 1.7939 - val_acc: 0.7143\n",
            "\n",
            "Epoch 00147: val_loss did not improve from 0.33433\n",
            "Epoch 148/200\n",
            "25/25 [==============================] - 0s 13ms/step - loss: 0.0043 - acc: 1.0000 - val_loss: 1.6359 - val_acc: 0.7143\n",
            "\n",
            "Epoch 00148: val_loss did not improve from 0.33433\n",
            "Epoch 149/200\n",
            "25/25 [==============================] - 0s 14ms/step - loss: 0.0430 - acc: 1.0000 - val_loss: 1.6825 - val_acc: 0.7143\n",
            "\n",
            "Epoch 00149: val_loss did not improve from 0.33433\n",
            "Epoch 150/200\n",
            "25/25 [==============================] - 0s 14ms/step - loss: 0.1300 - acc: 0.9600 - val_loss: 1.8085 - val_acc: 0.7143\n",
            "\n",
            "Epoch 00150: val_loss did not improve from 0.33433\n",
            "Epoch 151/200\n",
            "25/25 [==============================] - 0s 14ms/step - loss: 0.0020 - acc: 1.0000 - val_loss: 1.9132 - val_acc: 0.7143\n",
            "\n",
            "Epoch 00151: val_loss did not improve from 0.33433\n",
            "Epoch 152/200\n",
            "25/25 [==============================] - 0s 13ms/step - loss: 0.0647 - acc: 0.9600 - val_loss: 1.8735 - val_acc: 0.7143\n",
            "\n",
            "Epoch 00152: val_loss did not improve from 0.33433\n",
            "Epoch 153/200\n",
            "25/25 [==============================] - 0s 14ms/step - loss: 0.0658 - acc: 1.0000 - val_loss: 1.6872 - val_acc: 0.7143\n",
            "\n",
            "Epoch 00153: val_loss did not improve from 0.33433\n",
            "Epoch 154/200\n",
            "25/25 [==============================] - 0s 14ms/step - loss: 0.0083 - acc: 1.0000 - val_loss: 1.6386 - val_acc: 0.7143\n",
            "\n",
            "Epoch 00154: val_loss did not improve from 0.33433\n",
            "Epoch 155/200\n",
            "25/25 [==============================] - 0s 14ms/step - loss: 0.0943 - acc: 0.9600 - val_loss: 1.7160 - val_acc: 0.7143\n",
            "\n",
            "Epoch 00155: val_loss did not improve from 0.33433\n",
            "Epoch 156/200\n",
            "25/25 [==============================] - 0s 13ms/step - loss: 0.0130 - acc: 1.0000 - val_loss: 1.8249 - val_acc: 0.7143\n",
            "\n",
            "Epoch 00156: val_loss did not improve from 0.33433\n",
            "Epoch 157/200\n",
            "25/25 [==============================] - 0s 13ms/step - loss: 9.8784e-04 - acc: 1.0000 - val_loss: 1.8441 - val_acc: 0.7143\n",
            "\n",
            "Epoch 00157: val_loss did not improve from 0.33433\n",
            "Epoch 158/200\n",
            "25/25 [==============================] - 0s 13ms/step - loss: 0.0319 - acc: 1.0000 - val_loss: 1.8589 - val_acc: 0.7143\n",
            "\n",
            "Epoch 00158: val_loss did not improve from 0.33433\n",
            "Epoch 159/200\n",
            "25/25 [==============================] - 0s 12ms/step - loss: 0.0143 - acc: 1.0000 - val_loss: 1.8308 - val_acc: 0.7143\n",
            "\n",
            "Epoch 00159: val_loss did not improve from 0.33433\n",
            "Epoch 160/200\n",
            "25/25 [==============================] - 0s 13ms/step - loss: 0.0212 - acc: 1.0000 - val_loss: 1.7894 - val_acc: 0.7143\n",
            "\n",
            "Epoch 00160: val_loss did not improve from 0.33433\n",
            "Epoch 161/200\n",
            "25/25 [==============================] - 0s 13ms/step - loss: 0.0066 - acc: 1.0000 - val_loss: 1.7309 - val_acc: 0.7143\n",
            "\n",
            "Epoch 00161: val_loss did not improve from 0.33433\n",
            "Epoch 162/200\n",
            "25/25 [==============================] - 0s 14ms/step - loss: 0.0034 - acc: 1.0000 - val_loss: 1.6696 - val_acc: 0.7143\n",
            "\n",
            "Epoch 00162: val_loss did not improve from 0.33433\n",
            "Epoch 163/200\n",
            "25/25 [==============================] - 0s 13ms/step - loss: 3.2066e-04 - acc: 1.0000 - val_loss: 1.6316 - val_acc: 0.7143\n",
            "\n",
            "Epoch 00163: val_loss did not improve from 0.33433\n",
            "Epoch 164/200\n",
            "25/25 [==============================] - 0s 13ms/step - loss: 4.7258e-04 - acc: 1.0000 - val_loss: 1.6045 - val_acc: 0.7143\n",
            "\n",
            "Epoch 00164: val_loss did not improve from 0.33433\n",
            "Epoch 165/200\n",
            "25/25 [==============================] - 0s 13ms/step - loss: 0.0029 - acc: 1.0000 - val_loss: 1.5912 - val_acc: 0.7143\n",
            "\n",
            "Epoch 00165: val_loss did not improve from 0.33433\n",
            "Epoch 166/200\n",
            "25/25 [==============================] - 0s 13ms/step - loss: 0.0054 - acc: 1.0000 - val_loss: 1.6008 - val_acc: 0.7143\n",
            "\n",
            "Epoch 00166: val_loss did not improve from 0.33433\n",
            "Epoch 167/200\n",
            "25/25 [==============================] - 0s 13ms/step - loss: 0.0053 - acc: 1.0000 - val_loss: 1.6172 - val_acc: 0.7143\n",
            "\n",
            "Epoch 00167: val_loss did not improve from 0.33433\n",
            "Epoch 168/200\n",
            "25/25 [==============================] - 0s 14ms/step - loss: 0.0378 - acc: 1.0000 - val_loss: 1.5997 - val_acc: 0.7143\n",
            "\n",
            "Epoch 00168: val_loss did not improve from 0.33433\n",
            "Epoch 169/200\n",
            "25/25 [==============================] - 0s 13ms/step - loss: 0.0173 - acc: 1.0000 - val_loss: 1.5390 - val_acc: 0.7143\n",
            "\n",
            "Epoch 00169: val_loss did not improve from 0.33433\n",
            "Epoch 170/200\n",
            "25/25 [==============================] - 0s 14ms/step - loss: 0.0019 - acc: 1.0000 - val_loss: 1.5800 - val_acc: 0.7143\n",
            "\n",
            "Epoch 00170: val_loss did not improve from 0.33433\n",
            "Epoch 171/200\n",
            "25/25 [==============================] - 0s 14ms/step - loss: 0.0097 - acc: 1.0000 - val_loss: 1.5875 - val_acc: 0.7143\n",
            "\n",
            "Epoch 00171: val_loss did not improve from 0.33433\n",
            "Epoch 172/200\n",
            "25/25 [==============================] - 0s 13ms/step - loss: 0.0041 - acc: 1.0000 - val_loss: 1.6005 - val_acc: 0.7143\n",
            "\n",
            "Epoch 00172: val_loss did not improve from 0.33433\n",
            "Epoch 173/200\n",
            "25/25 [==============================] - 0s 15ms/step - loss: 0.0019 - acc: 1.0000 - val_loss: 1.6074 - val_acc: 0.7143\n",
            "\n",
            "Epoch 00173: val_loss did not improve from 0.33433\n",
            "Epoch 174/200\n",
            "25/25 [==============================] - 0s 13ms/step - loss: 0.0068 - acc: 1.0000 - val_loss: 1.6222 - val_acc: 0.7143\n",
            "\n",
            "Epoch 00174: val_loss did not improve from 0.33433\n",
            "Epoch 175/200\n",
            "25/25 [==============================] - 0s 14ms/step - loss: 0.0258 - acc: 1.0000 - val_loss: 1.5989 - val_acc: 0.7143\n",
            "\n",
            "Epoch 00175: val_loss did not improve from 0.33433\n",
            "Epoch 176/200\n",
            "25/25 [==============================] - 0s 14ms/step - loss: 0.0020 - acc: 1.0000 - val_loss: 1.5545 - val_acc: 0.7143\n",
            "\n",
            "Epoch 00176: val_loss did not improve from 0.33433\n",
            "Epoch 177/200\n",
            "25/25 [==============================] - 0s 13ms/step - loss: 0.0095 - acc: 1.0000 - val_loss: 1.5104 - val_acc: 0.7143\n",
            "\n",
            "Epoch 00177: val_loss did not improve from 0.33433\n",
            "Epoch 178/200\n",
            "25/25 [==============================] - 0s 13ms/step - loss: 0.0014 - acc: 1.0000 - val_loss: 1.4754 - val_acc: 0.7143\n",
            "\n",
            "Epoch 00178: val_loss did not improve from 0.33433\n",
            "Epoch 179/200\n",
            "25/25 [==============================] - 0s 14ms/step - loss: 0.0044 - acc: 1.0000 - val_loss: 1.4548 - val_acc: 0.7143\n",
            "\n",
            "Epoch 00179: val_loss did not improve from 0.33433\n",
            "Epoch 180/200\n",
            "25/25 [==============================] - 0s 14ms/step - loss: 0.0019 - acc: 1.0000 - val_loss: 1.4578 - val_acc: 0.7143\n",
            "\n",
            "Epoch 00180: val_loss did not improve from 0.33433\n",
            "Epoch 181/200\n",
            "25/25 [==============================] - 0s 14ms/step - loss: 0.0056 - acc: 1.0000 - val_loss: 1.5207 - val_acc: 0.7143\n",
            "\n",
            "Epoch 00181: val_loss did not improve from 0.33433\n",
            "Epoch 182/200\n",
            "25/25 [==============================] - 0s 13ms/step - loss: 0.0062 - acc: 1.0000 - val_loss: 1.6150 - val_acc: 0.7143\n",
            "\n",
            "Epoch 00182: val_loss did not improve from 0.33433\n",
            "Epoch 183/200\n",
            "25/25 [==============================] - 0s 14ms/step - loss: 0.0045 - acc: 1.0000 - val_loss: 1.7292 - val_acc: 0.7143\n",
            "\n",
            "Epoch 00183: val_loss did not improve from 0.33433\n",
            "Epoch 184/200\n",
            "25/25 [==============================] - 0s 13ms/step - loss: 0.0412 - acc: 1.0000 - val_loss: 1.8475 - val_acc: 0.7143\n",
            "\n",
            "Epoch 00184: val_loss did not improve from 0.33433\n",
            "Epoch 185/200\n",
            "25/25 [==============================] - 0s 14ms/step - loss: 0.0043 - acc: 1.0000 - val_loss: 1.8994 - val_acc: 0.7143\n",
            "\n",
            "Epoch 00185: val_loss did not improve from 0.33433\n",
            "Epoch 186/200\n",
            "25/25 [==============================] - 0s 13ms/step - loss: 7.6730e-04 - acc: 1.0000 - val_loss: 1.9560 - val_acc: 0.7143\n",
            "\n",
            "Epoch 00186: val_loss did not improve from 0.33433\n",
            "Epoch 187/200\n",
            "25/25 [==============================] - 0s 13ms/step - loss: 0.0025 - acc: 1.0000 - val_loss: 2.0149 - val_acc: 0.7143\n",
            "\n",
            "Epoch 00187: val_loss did not improve from 0.33433\n",
            "Epoch 188/200\n",
            "25/25 [==============================] - 0s 13ms/step - loss: 0.0902 - acc: 0.9600 - val_loss: 2.0420 - val_acc: 0.7143\n",
            "\n",
            "Epoch 00188: val_loss did not improve from 0.33433\n",
            "Epoch 189/200\n",
            "25/25 [==============================] - 0s 14ms/step - loss: 0.0191 - acc: 1.0000 - val_loss: 2.0432 - val_acc: 0.7143\n",
            "\n",
            "Epoch 00189: val_loss did not improve from 0.33433\n",
            "Epoch 190/200\n",
            "25/25 [==============================] - 0s 14ms/step - loss: 0.0046 - acc: 1.0000 - val_loss: 1.9861 - val_acc: 0.7143\n",
            "\n",
            "Epoch 00190: val_loss did not improve from 0.33433\n",
            "Epoch 191/200\n",
            "25/25 [==============================] - 0s 14ms/step - loss: 0.0047 - acc: 1.0000 - val_loss: 1.9519 - val_acc: 0.7143\n",
            "\n",
            "Epoch 00191: val_loss did not improve from 0.33433\n",
            "Epoch 192/200\n",
            "25/25 [==============================] - 0s 14ms/step - loss: 0.0670 - acc: 0.9600 - val_loss: 1.8754 - val_acc: 0.7143\n",
            "\n",
            "Epoch 00192: val_loss did not improve from 0.33433\n",
            "Epoch 193/200\n",
            "25/25 [==============================] - 0s 15ms/step - loss: 0.0081 - acc: 1.0000 - val_loss: 1.8514 - val_acc: 0.7143\n",
            "\n",
            "Epoch 00193: val_loss did not improve from 0.33433\n",
            "Epoch 194/200\n",
            "25/25 [==============================] - 0s 14ms/step - loss: 0.0021 - acc: 1.0000 - val_loss: 1.8565 - val_acc: 0.7143\n",
            "\n",
            "Epoch 00194: val_loss did not improve from 0.33433\n",
            "Epoch 195/200\n",
            "25/25 [==============================] - 0s 14ms/step - loss: 8.6757e-04 - acc: 1.0000 - val_loss: 1.8533 - val_acc: 0.7143\n",
            "\n",
            "Epoch 00195: val_loss did not improve from 0.33433\n",
            "Epoch 196/200\n",
            "25/25 [==============================] - 0s 14ms/step - loss: 0.0026 - acc: 1.0000 - val_loss: 1.8484 - val_acc: 0.7143\n",
            "\n",
            "Epoch 00196: val_loss did not improve from 0.33433\n",
            "Epoch 197/200\n",
            "25/25 [==============================] - 0s 13ms/step - loss: 7.7099e-04 - acc: 1.0000 - val_loss: 1.8245 - val_acc: 0.7143\n",
            "\n",
            "Epoch 00197: val_loss did not improve from 0.33433\n",
            "Epoch 198/200\n",
            "25/25 [==============================] - 0s 13ms/step - loss: 0.0014 - acc: 1.0000 - val_loss: 1.7997 - val_acc: 0.7143\n",
            "\n",
            "Epoch 00198: val_loss did not improve from 0.33433\n",
            "Epoch 199/200\n",
            "25/25 [==============================] - 0s 13ms/step - loss: 0.0053 - acc: 1.0000 - val_loss: 1.7545 - val_acc: 0.7143\n",
            "\n",
            "Epoch 00199: val_loss did not improve from 0.33433\n",
            "Epoch 200/200\n",
            "25/25 [==============================] - 0s 14ms/step - loss: 2.6577e-04 - acc: 1.0000 - val_loss: 1.6551 - val_acc: 0.7143\n",
            "\n",
            "Epoch 00200: val_loss did not improve from 0.33433\n"
          ],
          "name": "stdout"
        }
      ]
    },
    {
      "cell_type": "code",
      "metadata": {
        "id": "YjXKos8ocXvw",
        "colab_type": "code",
        "colab": {}
      },
      "source": [
        " model = load_model(\"model.h5\")"
      ],
      "execution_count": 0,
      "outputs": []
    },
    {
      "cell_type": "code",
      "metadata": {
        "id": "qSTEzrlzcuya",
        "colab_type": "code",
        "colab": {}
      },
      "source": [
        "def predictions(text):\n",
        "  clean = re.sub(r'[^ a-z A-Z 0-9]', \" \", text)\n",
        "  test_word = word_tokenize(clean, language='portuguese')\n",
        "  test_word = [stemmer.stem(w.lower()) for w in test_word] \n",
        "  test_ls = word_tokenizer.texts_to_sequences(test_word) \n",
        "  #Check for unknown words\n",
        "  if [] in test_ls:\n",
        "    test_ls = list(filter(None, test_ls))\n",
        "    \n",
        "  test_ls = np.array(test_ls).reshape(1, len(test_ls))\n",
        " \n",
        "  x = padding_doc(test_ls, max_length)\n",
        "  \n",
        "  pred = model.predict_proba(x)\n",
        "  \n",
        "  \n",
        "  return pred\n",
        "\n",
        "\n",
        "  "
      ],
      "execution_count": 0,
      "outputs": []
    },
    {
      "cell_type": "code",
      "metadata": {
        "id": "P1ddofshmdzK",
        "colab_type": "code",
        "colab": {}
      },
      "source": [
        "def get_final_output(pred, classes):\n",
        "  predictions = pred[0]  \n",
        " \n",
        "  classes = np.array(classes)\n",
        "  ids = np.argsort(-predictions)\n",
        "  classes = classes[ids]\n",
        "  predictions = -np.sort(-predictions)\n",
        "  \n",
        "  print(predictions)\n",
        "  for i in range(pred.shape[1]):\n",
        "    print(\"%s has confidence = %s\" % (classes[i], (predictions[i])))\n",
        "\n"
      ],
      "execution_count": 0,
      "outputs": []
    },
    {
      "cell_type": "code",
      "metadata": {
        "id": "23VpGuihMdEU",
        "colab_type": "code",
        "outputId": "51a1cb67-b6f6-49ad-f530-a0e58490cd74",
        "colab": {
          "base_uri": "https://localhost:8080/",
          "height": 340
        }
      },
      "source": [
        "text = \"o aviso fala frete gratis.\"\n",
        "pred = predictions(text)\n",
        "get_final_output(pred, unique_intent)\n",
        "print()\n",
        "\n",
        "text = \"tem frete?\"\n",
        "pred = predictions(text)\n",
        "get_final_output(pred, unique_intent)\n",
        "print()\n",
        "\n",
        "text = \"vem com nota? é frete gratis\"\n",
        "pred = predictions(text)\n",
        "get_final_output(pred, unique_intent)\n",
        "print()\n",
        "\n",
        "\n",
        "text = \"o valor do frete consta na nota?\"\n",
        "pred = predictions(text)\n",
        "get_final_output(pred, unique_intent)"
      ],
      "execution_count": 301,
      "outputs": [
        {
          "output_type": "stream",
          "text": [
            "[0.606543   0.3638454  0.02961162]\n",
            "FreteGratis has confidence = 0.606543\n",
            "DadosFrete has confidence = 0.3638454\n",
            "DadosNotaFiscal has confidence = 0.029611615\n",
            "\n",
            "[0.9190556  0.04837725 0.03256721]\n",
            "DadosFrete has confidence = 0.9190556\n",
            "DadosNotaFiscal has confidence = 0.048377253\n",
            "FreteGratis has confidence = 0.032567214\n",
            "\n",
            "[0.9720848  0.02279115 0.005124  ]\n",
            "DadosNotaFiscal has confidence = 0.9720848\n",
            "DadosFrete has confidence = 0.02279115\n",
            "FreteGratis has confidence = 0.0051240046\n",
            "\n",
            "[0.6667947  0.2524448  0.08076047]\n",
            "DadosFrete has confidence = 0.6667947\n",
            "FreteGratis has confidence = 0.2524448\n",
            "DadosNotaFiscal has confidence = 0.08076047\n"
          ],
          "name": "stdout"
        }
      ]
    },
    {
      "cell_type": "code",
      "metadata": {
        "id": "bKUBDT36IHKO",
        "colab_type": "code",
        "colab": {}
      },
      "source": [
        ""
      ],
      "execution_count": 0,
      "outputs": []
    }
  ]
}